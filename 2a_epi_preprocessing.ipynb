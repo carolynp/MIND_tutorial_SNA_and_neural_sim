{
 "cells": [
  {
   "cell_type": "markdown",
   "metadata": {},
   "source": [
    "# 2a. Preprocess functional data\n",
    "\n",
    "#### Note: This notebook is created just for the purposes of following along and possibly using as a reference in the future, since many of you won't have installed AFNI and since the input files would be very large and would take a long time to download.\n",
    "\n",
    "This script creates and executes AFNI scripts to preprocess time series data\n",
    "for a list of subjects. It takes as input:\n",
    "\n",
    "1) A list of subject IDs (here, *subjects.json*)\n",
    "\n",
    "2) Nifti or AFNI files for each functional run for each subject\n",
    "\n",
    "3) Each subject's high-resolution anatomical scan (*subjectid_SurfVol_Alnd_Exp+orig*)\n",
    "\n",
    "4) Each subject's anatomical segmentation file (*aseg_Alnd_Exp+orig*), which was created with Freesurfer (*recon-all*), converted to AFNI format (with  *@SUMA_Make_Spec_FS*) and aligned to the high-res scan to which the functional data will also be aligned. In preprocessing, the *aseg* file is used to obtain anatomical masks of the ventricles and white matter to generate global and local nuisance regressors.\n",
    "\n",
    "\n",
    "You can refer to the relevant AFNI documentation for further details on how these are defined, and on the various options that are specified, but briefly, preprocessing steps include:\n",
    "\n",
    "- Despiking (removal of transient, extreme fluctuations in signal)\n",
    "- Alignment to the participant's high-res anatomical file (which is already in alignment with the participant's FreeSurfer-derived tissue segmentation and cortical parcellation files)\n",
    "- Scaling values within voxels across time\n",
    "- Extracting, resampling and eroding white matter and ventricle masks (from the participant's Freesurfer segmentation file)\n",
    "- Smoothing data separately in the grey and non-grey matter masks\n",
    "- Extracting and detrending (using the polynomical selected using *-polort*) local and global nuisance regressor time series from the WM and ventricle masks, respectively\n",
    "- Removal of regressors of non-interest (ventricle signal, local WM signal, motion parameters, their derivatives), as well as a third-order polynomical, from the EPI time series\n",
    "\n"
   ]
  },
  {
   "cell_type": "code",
   "execution_count": 2,
   "metadata": {},
   "outputs": [],
   "source": [
    "import os\n",
    "import subprocess\n",
    "import json\n",
    "import glob"
   ]
  },
  {
   "cell_type": "code",
   "execution_count": 3,
   "metadata": {},
   "outputs": [],
   "source": [
    "def sh(c):\n",
    "    '''\n",
    "    run shell commands\n",
    "    '''\n",
    "    subprocess.call(c, shell = True)"
   ]
  },
  {
   "cell_type": "code",
   "execution_count": 4,
   "metadata": {},
   "outputs": [],
   "source": [
    "study_path = \"./data\"\n",
    "\n",
    "# load in list of fMRI subjects\n",
    "with open(\"{}/fmri/fmri_subjects.json\".format(study_path)) as data_file:\n",
    "    subj_list = json.load(data_file)\n",
    "    \n",
    "nruns = 6"
   ]
  },
  {
   "cell_type": "code",
   "execution_count": 18,
   "metadata": {},
   "outputs": [],
   "source": [
    "# preprocess each run for each subject\n",
    "for subject in subj_list:\n",
    "    subj_dir = \"{}/fmri/example_subj/{}\".format(study_path, subject)\n",
    "    os.chdir(subj_dir)\n",
    "    \n",
    "    # create dictionary of raw EPI files, where keys are prefixes to use\n",
    "    # when naming and storing pre-processed data, and values are the names\n",
    "    # of the raw data files\n",
    "    my_epis = {}\n",
    "    for epi_num in range(1, nruns+1):    \n",
    "        my_epis['epi{}'.format(epi_num)] = glob.glob('{}/{}_fMRI_{}_*'.format(subj_dir, subject, epi_num))[0]\n",
    "        \n",
    "    # get relevant anatomical files (high-res anatomical and \n",
    "    # Freesurfer-derived tissue segmentation file to be used \n",
    "    # to generate nuisance regressors)\n",
    "    hires = \"{}/{}_SurfVol_Alnd_Exp+orig\".format(subj_dir, subject)\n",
    "    aseg = \"{}/aseg_Alnd_Exp+orig\".format(subj_dir)\n",
    "\n",
    "    # create and run preprocessing command for each epi run \n",
    "    for epi_prefix, raw_epi in my_epis.items():\n",
    "        preproc = (\"\"\"afni_restproc.py -anat {hires} \\\n",
    "              -epi {raw_epi} \\\n",
    "              -prefix {epi_prefix}_preprocessed \\\n",
    "              -script {epi_prefix}_rest_proc_script.tcsh \\\n",
    "              -epi2anat \\\n",
    "              -uniformize \\\n",
    "              -anat_has_skull yes \\\n",
    "              -aseg {aseg} \\\n",
    "              -dreg \\\n",
    "              -trcut 2  \\\n",
    "              -localnorm \\\n",
    "              -smoothfirst \\\n",
    "              -smoothrad 4 \\\n",
    "              -polort 3 \\\n",
    "              -despike on\"\"\").format(hires = hires, raw_epi = raw_epi, epi_prefix = epi_prefix, aseg = aseg)\n",
    "    \n",
    "        sh(preproc)  \n",
    "        "
   ]
  }
 ],
 "metadata": {
  "kernelspec": {
   "display_name": "Python 3",
   "language": "python",
   "name": "python3"
  },
  "language_info": {
   "codemirror_mode": {
    "name": "ipython",
    "version": 3
   },
   "file_extension": ".py",
   "mimetype": "text/x-python",
   "name": "python",
   "nbconvert_exporter": "python",
   "pygments_lexer": "ipython3",
   "version": "3.6.5"
  }
 },
 "nbformat": 4,
 "nbformat_minor": 2
}
