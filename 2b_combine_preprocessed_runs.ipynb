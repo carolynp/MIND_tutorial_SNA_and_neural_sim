{
 "cells": [
  {
   "cell_type": "markdown",
   "metadata": {},
   "source": [
    "# 2b. Combine preprocessed data across runs\n",
    "\n",
    "Author: Carolyn Parkinson\n",
    "\n",
    "Date: August 6, 2018\n",
    "\n",
    "#### Note: Notebooks 2a, 2b and 2c are created just for the purposes of following along and possibly using as a reference in the future, since many of you won't have installed AFNI and since the input files would be very large and would take a long time to download.\n",
    "\n",
    "After preprocessing, this script concatenates the preprocessed time series data across our runs for each subject, then cleans up their directories a bit.\n",
    "\n",
    "It takes as input:\n",
    "\n",
    "- A list of subject IDs (here, *subjects.json*)\n",
    "\n",
    "- AFNI files for each preprocessed functional run for each subject\n",
    "\n",
    "And returns:\n",
    "\n",
    "- *subjectid_epi_all_preprocessed+orig*\n",
    "\n",
    "\n"
   ]
  },
  {
   "cell_type": "code",
   "execution_count": 2,
   "metadata": {},
   "outputs": [],
   "source": [
    "import os\n",
    "import subprocess\n",
    "import json\n",
    "import csv\n",
    "import numpy as np"
   ]
  },
  {
   "cell_type": "code",
   "execution_count": 3,
   "metadata": {},
   "outputs": [],
   "source": [
    "study_path = \"./data\"\n",
    "\n",
    "# load in list of fMRI subjects\n",
    "with open(\"{}/fmri/fmri_subjects.json\".format(study_path)) as data_file:\n",
    "    subj_list = json.load(data_file)\n",
    "    \n",
    "nruns = 6"
   ]
  },
  {
   "cell_type": "code",
   "execution_count": 4,
   "metadata": {},
   "outputs": [],
   "source": [
    "def sh(c):\n",
    "    '''\n",
    "    run shell commands\n",
    "    '''\n",
    "    subprocess.call(c, shell = True)"
   ]
  },
  {
   "cell_type": "markdown",
   "metadata": {},
   "source": [
    "Concatenate preprocessed data across runs and clean up the subject's data directory a little bit:"
   ]
  },
  {
   "cell_type": "code",
   "execution_count": 4,
   "metadata": {},
   "outputs": [],
   "source": [
    "for subject in subj_list:\n",
    "\n",
    "    subj_dir = \"{}/fmri/example_subj/{}\".format(study_path, subject)\n",
    "    os.chdir(subj_dir)\n",
    "    \n",
    "    \n",
    "    # copy each run of preprocessed data into the subject's main nifti directory\n",
    "    epi_fnames = {}\n",
    "    for epi_num in range(1, nruns+1):\n",
    "        \n",
    "        # specify the prefix for the preprocessed file names for this run; this is\n",
    "        # also the name of the AFNI-generated sub-directory containing these files\n",
    "        epi_prefix = 'epi{}_preprocessed'.format(epi_num)\n",
    "        \n",
    "        # specify file name of preprocessed data within that sub-directory\n",
    "        epi_fname = '{}.cleanEPI+orig'.format(epi_prefix)\n",
    "        \n",
    "        # create a dictionary where  keys are the run names ('epi1', 'epi2', etc.)\n",
    "        # and values are the corresponding full file names (to iterate through later)\n",
    "        epi_fnames['epi{}'.format(epi_num)] = epi_fname\n",
    "        \n",
    "        # Copy these AFNI files\n",
    "        cp_cmd = '3dcopy {}/{}/{} {}/{}.cleanEPI'.format(subj_dir, epi_prefix, epi_fname, subj_dir, epi_prefix)\n",
    "        #sh(cp_cmd)\n",
    "\n",
    "        \n",
    "    # Concatenate preprocessed data across runs\n",
    "    all_epi = \"{}_epi_all_preprocessed\".format(subject)\n",
    "    tcat_cmd = (\"3dTcat -session {} -prefix {} \"\n",
    "                \"{epi1} {epi2} {epi3} {epi4} {epi5} {epi6}\").format(subj_dir, all_epi, **epi_fnames)\n",
    "    sh(tcat_cmd)\n",
    " \n",
    "\n",
    "    # Clean up the subject's directory a bit\n",
    "    # delete copies of preprocessed data for each run\n",
    "    for num, fname in epi_fnames.items():\n",
    "        rm_cmd = 'rm {}/{}*'.format(subj_dir, fname)\n",
    "        sh(rm_cmd)\n",
    "\n",
    "    # move raw epi data into its own directory\n",
    "    raw_epi_dir = '{}/raw_epi_data'.format(subj_dir)\n",
    "    if not os.path.exists(raw_epi_dir):\n",
    "        os.makedirs(raw_epi_dir)\n",
    "    mv_cmd = 'mv {}/{}_fMRI_* {}'.format(subj_dir, subject, raw_epi_dir)\n",
    "    sh(mv_cmd)"
   ]
  },
  {
   "cell_type": "code",
   "execution_count": null,
   "metadata": {},
   "outputs": [],
   "source": []
  }
 ],
 "metadata": {
  "kernelspec": {
   "display_name": "Python 3",
   "language": "python",
   "name": "python3"
  },
  "language_info": {
   "codemirror_mode": {
    "name": "ipython",
    "version": 3
   },
   "file_extension": ".py",
   "mimetype": "text/x-python",
   "name": "python",
   "nbconvert_exporter": "python",
   "pygments_lexer": "ipython3",
   "version": "3.6.5"
  }
 },
 "nbformat": 4,
 "nbformat_minor": 2
}
